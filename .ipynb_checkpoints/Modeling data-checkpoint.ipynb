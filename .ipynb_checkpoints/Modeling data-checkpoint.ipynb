{
 "cells": [
  {
   "cell_type": "markdown",
   "id": "1ecbdc02",
   "metadata": {},
   "source": [
    "# Modeling"
   ]
  },
  {
   "cell_type": "code",
   "execution_count": 1,
   "id": "8ed5bbbd",
   "metadata": {},
   "outputs": [],
   "source": [
    "# importing relevant libraries\n",
    "import pandas as pd\n",
    "import numpy as np\n",
    "import scipy as sp\n",
    "import matplotlib as mpl\n",
    "import matplotlib.pyplot as plt\n",
    "import pandas as pd\n",
    "import seaborn as sns"
   ]
  },
  {
   "cell_type": "code",
   "execution_count": null,
   "id": "12312e08",
   "metadata": {},
   "outputs": [],
   "source": [
    "from sklearn.preprocessing import OneHotEncoder\n",
    "from sklearn.compose import ColumnTransformer\n",
    "from sklearn.pipeline import Pipeline\n",
    "from sklearn.model_selection import train_test_split\n",
    "from sklearn.linear_model import LogisticRegression\n",
    "from sklearn.tree import DecisionTreeClassifier\n",
    "from sklearn.ensemble import RandomForestClassifier\n",
    "from sklearn.model_selection import GridSearchCV\n",
    "from sklearn.metrics import accuracy_score, classification_report\n"
   ]
  },
  {
   "cell_type": "markdown",
   "id": "9f436038",
   "metadata": {},
   "source": [
    "Loading the data\n"
   ]
  },
  {
   "cell_type": "code",
   "execution_count": 2,
   "id": "155baa3f",
   "metadata": {},
   "outputs": [],
   "source": [
    "# importing the data(train and test)\n",
    "training_data = pd.read_csv('training_data.csv')\n",
    "\n",
    "test_data = pd.read_csv('test_data.csv')"
   ]
  },
  {
   "cell_type": "markdown",
   "id": "02b448ea",
   "metadata": {},
   "source": [
    "### I'll be following this metrc for modeling\n",
    "\n"
   ]
  },
  {
   "cell_type": "markdown",
   "id": "a6019a4d",
   "metadata": {},
   "source": [
    "1. Pre-processing:\n",
    "* One-hot encode the categorical variables, such as funder, installer, basin, etc. to handle non-numeric data.\n",
    "* Split the data into training and testing sets."
   ]
  },
  {
   "cell_type": "code",
   "execution_count": null,
   "id": "cb5daf8c",
   "metadata": {},
   "outputs": [],
   "source": []
  },
  {
   "cell_type": "code",
   "execution_count": null,
   "id": "a9ff99f4",
   "metadata": {},
   "outputs": [],
   "source": []
  },
  {
   "cell_type": "code",
   "execution_count": null,
   "id": "de1961fd",
   "metadata": {},
   "outputs": [],
   "source": []
  },
  {
   "cell_type": "code",
   "execution_count": null,
   "id": "81008563",
   "metadata": {},
   "outputs": [],
   "source": []
  },
  {
   "cell_type": "code",
   "execution_count": null,
   "id": "b5e88006",
   "metadata": {},
   "outputs": [],
   "source": []
  },
  {
   "cell_type": "markdown",
   "id": "5cb01be7",
   "metadata": {},
   "source": [
    "2. Logistic Regression:\n",
    "* Choose logistic regression as the baseline model, since it's a simple and interpretable model.\n",
    "* Fit the model on the training data and evaluate the performance on the testing data.\n",
    "* Hyperparameters for logistic regression include the regularization term (e.g. L1 or L2) and the regularization strength (e.g. C).\n",
    "* Grid search or random search can be used to find the best hyperparameters that result in the best performance on the testing data.\n"
   ]
  },
  {
   "cell_type": "code",
   "execution_count": null,
   "id": "cc9c2235",
   "metadata": {},
   "outputs": [],
   "source": []
  },
  {
   "cell_type": "code",
   "execution_count": null,
   "id": "372f9865",
   "metadata": {},
   "outputs": [],
   "source": []
  },
  {
   "cell_type": "code",
   "execution_count": null,
   "id": "e80054d3",
   "metadata": {},
   "outputs": [],
   "source": []
  },
  {
   "cell_type": "code",
   "execution_count": null,
   "id": "323b718a",
   "metadata": {},
   "outputs": [],
   "source": []
  },
  {
   "cell_type": "markdown",
   "id": "0992b891",
   "metadata": {},
   "source": [
    "3. Decision Trees:\n",
    "* Since logistic regression may not capture complex relationships between features and the target variable, try a decision tree model.\n",
    "* Choose the optimal hyperparameters using grid search or random search.\n",
    "* Evaluate the performance on the testing data.\n",
    "* Hyperparameters for decision trees include the maximum depth of the tree and the minimum number of samples required to split a node.\n",
    "\n"
   ]
  },
  {
   "cell_type": "markdown",
   "id": "2983f08a",
   "metadata": {},
   "source": [
    "4. Random Forest:\n",
    "* Random Forest is an extension of decision trees, where multiple trees are built and combined to make a prediction.\n",
    "* Choose the optimal hyperparameters using grid search or random search.\n",
    "* Evaluate the performance on the testing data.\n",
    "* Hyperparameters for random forests include the number of trees in the forest, the maximum depth of each tree, and the minimum number of samples required to split a node.\n"
   ]
  },
  {
   "cell_type": "code",
   "execution_count": null,
   "id": "974b3eae",
   "metadata": {},
   "outputs": [],
   "source": []
  },
  {
   "cell_type": "code",
   "execution_count": null,
   "id": "453ec6a5",
   "metadata": {},
   "outputs": [],
   "source": []
  },
  {
   "cell_type": "code",
   "execution_count": null,
   "id": "189cc953",
   "metadata": {},
   "outputs": [],
   "source": []
  },
  {
   "cell_type": "code",
   "execution_count": null,
   "id": "17b31ebb",
   "metadata": {},
   "outputs": [],
   "source": []
  },
  {
   "cell_type": "markdown",
   "id": "48380996",
   "metadata": {},
   "source": [
    "5. Model Comparison:\n",
    "* Compare the performance of the logistic regression, decision tree, and random forest models to choose the best one.\n",
    "* Evaluate the performance using metrics such as accuracy, precision, recall, F1-score, AUC-ROC, etc.\n"
   ]
  },
  {
   "cell_type": "code",
   "execution_count": null,
   "id": "642dc61e",
   "metadata": {},
   "outputs": [],
   "source": []
  },
  {
   "cell_type": "code",
   "execution_count": null,
   "id": "bef1c346",
   "metadata": {},
   "outputs": [],
   "source": []
  },
  {
   "cell_type": "code",
   "execution_count": null,
   "id": "c173875d",
   "metadata": {},
   "outputs": [],
   "source": []
  },
  {
   "cell_type": "code",
   "execution_count": null,
   "id": "d270f77e",
   "metadata": {},
   "outputs": [],
   "source": []
  }
 ],
 "metadata": {
  "kernelspec": {
   "display_name": "Python 3 (ipykernel)",
   "language": "python",
   "name": "python3"
  },
  "language_info": {
   "codemirror_mode": {
    "name": "ipython",
    "version": 3
   },
   "file_extension": ".py",
   "mimetype": "text/x-python",
   "name": "python",
   "nbconvert_exporter": "python",
   "pygments_lexer": "ipython3",
   "version": "3.9.12"
  }
 },
 "nbformat": 4,
 "nbformat_minor": 5
}
