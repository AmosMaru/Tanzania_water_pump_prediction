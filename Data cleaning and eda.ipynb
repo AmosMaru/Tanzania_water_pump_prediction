{
 "cells": [
  {
   "cell_type": "markdown",
   "id": "995f3016",
   "metadata": {},
   "source": [
    "# Water pump prediction in Tanzania"
   ]
  },
  {
   "cell_type": "markdown",
   "id": "27b0bfff",
   "metadata": {},
   "source": [
    "## Introduction"
   ]
  },
  {
   "cell_type": "markdown",
   "id": "56002d2d",
   "metadata": {},
   "source": [
    "Tanzania is equipped with a diverse range of water pumps, some of which are functional, some in need of repair, and others that are non-functional. Managing this infrastructure is a critical task for the well-being of the communities that rely on these pumps for their daily water needs. An NGO with a focus on water management could play a crucial role in ensuring that the pumps are well-maintained and functional. This could involve repairing the pumps that are in need of repair, replacing the non-functional pumps, and conducting regular maintenance on the functional ones. With proper management, the NGO could ensure a steady and reliable water source for the communities, improve their quality of life, and reduce the risk of waterborne illnesses.\n",
    "\n",
    "It is important to make predictions regarding the state of the water pumps in Tanzania because accurate forecasting allows for proactive decision making and resource allocation. By anticipating the needs of the pumps, the NGO can plan ahead and allocate resources effectively to repair or replace pumps before they become non-functional. This ensures that the communities have access to clean and safe water, reduces the likelihood of water scarcity and related health risks, and ultimately improves their overall quality of life. Additionally, making predictions about the state of the pumps can help the NGO prioritize their efforts and focus on the pumps that are most in need of attention, leading to a more efficient and effective use of resources."
   ]
  },
  {
   "cell_type": "markdown",
   "id": "de2c096a",
   "metadata": {},
   "source": [
    "## Objective\n",
    "To predict the status of Tanzanian water pumps. The water pumps are either of these three categories:\n",
    "\n",
    "1. functional\n",
    "\n",
    "2. non-functional\n",
    "\n",
    "3. functional but need repair."
   ]
  },
  {
   "cell_type": "code",
   "execution_count": 1,
   "id": "3f496ac8",
   "metadata": {},
   "outputs": [],
   "source": [
    "# importing relevant libraries\n",
    "import pandas as pd\n",
    "import numpy as np\n",
    "import scipy as sp\n",
    "import matplotlib as mpl\n",
    "import matplotlib.pyplot as plt\n",
    "import pandas as pd\n",
    "import seaborn as sns"
   ]
  },
  {
   "cell_type": "markdown",
   "id": "32422dea",
   "metadata": {},
   "source": [
    "## Available data from drivendata"
   ]
  },
  {
   "cell_type": "markdown",
   "id": "971ced57",
   "metadata": {},
   "source": [
    "Source of data:'https://www.drivendata.org/competitions/7/pump-it-up-data-mining-the-water-table/page/23/'\n",
    "\n",
    "1. Training set labels: The dependent variable (status_group) for each of the rows in Training set values\n",
    "\n",
    "2. Training set values: The independent variables for the training set\n",
    "\n",
    "3. Test set values: The independent variables that need predictions"
   ]
  },
  {
   "cell_type": "code",
   "execution_count": 2,
   "id": "23450072",
   "metadata": {},
   "outputs": [],
   "source": [
    "#Importing the Data Sets\n",
    "\n",
    "# Importing the Training set values.\n",
    "features = pd.read_csv('Data/4910797b-ee55-40a7-8668-10efd5c1b960.csv')\n",
    "\n",
    "# Importing Target Data\n",
    "target = pd.read_csv('Data/0bf8bc6e-30d0-4c50-956a-603fc693d966.csv')\n",
    "\n",
    "# Importing the Testing set values for validating the trained model.\n",
    "test = pd.read_csv('Data/702ddfc5-68cd-4d1d-a0de-f5f566f76d91.csv')"
   ]
  },
  {
   "cell_type": "code",
   "execution_count": 3,
   "id": "468c1260",
   "metadata": {
    "scrolled": true
   },
   "outputs": [
    {
     "data": {
      "text/html": [
       "<div>\n",
       "<style scoped>\n",
       "    .dataframe tbody tr th:only-of-type {\n",
       "        vertical-align: middle;\n",
       "    }\n",
       "\n",
       "    .dataframe tbody tr th {\n",
       "        vertical-align: top;\n",
       "    }\n",
       "\n",
       "    .dataframe thead th {\n",
       "        text-align: right;\n",
       "    }\n",
       "</style>\n",
       "<table border=\"1\" class=\"dataframe\">\n",
       "  <thead>\n",
       "    <tr style=\"text-align: right;\">\n",
       "      <th></th>\n",
       "      <th>id</th>\n",
       "      <th>amount_tsh</th>\n",
       "      <th>date_recorded</th>\n",
       "      <th>funder</th>\n",
       "      <th>gps_height</th>\n",
       "      <th>installer</th>\n",
       "      <th>longitude</th>\n",
       "      <th>latitude</th>\n",
       "      <th>wpt_name</th>\n",
       "      <th>num_private</th>\n",
       "      <th>...</th>\n",
       "      <th>payment_type</th>\n",
       "      <th>water_quality</th>\n",
       "      <th>quality_group</th>\n",
       "      <th>quantity</th>\n",
       "      <th>quantity_group</th>\n",
       "      <th>source</th>\n",
       "      <th>source_type</th>\n",
       "      <th>source_class</th>\n",
       "      <th>waterpoint_type</th>\n",
       "      <th>waterpoint_type_group</th>\n",
       "    </tr>\n",
       "  </thead>\n",
       "  <tbody>\n",
       "    <tr>\n",
       "      <th>0</th>\n",
       "      <td>69572</td>\n",
       "      <td>6000.0</td>\n",
       "      <td>2011-03-14</td>\n",
       "      <td>Roman</td>\n",
       "      <td>1390</td>\n",
       "      <td>Roman</td>\n",
       "      <td>34.938093</td>\n",
       "      <td>-9.856322</td>\n",
       "      <td>none</td>\n",
       "      <td>0</td>\n",
       "      <td>...</td>\n",
       "      <td>annually</td>\n",
       "      <td>soft</td>\n",
       "      <td>good</td>\n",
       "      <td>enough</td>\n",
       "      <td>enough</td>\n",
       "      <td>spring</td>\n",
       "      <td>spring</td>\n",
       "      <td>groundwater</td>\n",
       "      <td>communal standpipe</td>\n",
       "      <td>communal standpipe</td>\n",
       "    </tr>\n",
       "    <tr>\n",
       "      <th>1</th>\n",
       "      <td>8776</td>\n",
       "      <td>0.0</td>\n",
       "      <td>2013-03-06</td>\n",
       "      <td>Grumeti</td>\n",
       "      <td>1399</td>\n",
       "      <td>GRUMETI</td>\n",
       "      <td>34.698766</td>\n",
       "      <td>-2.147466</td>\n",
       "      <td>Zahanati</td>\n",
       "      <td>0</td>\n",
       "      <td>...</td>\n",
       "      <td>never pay</td>\n",
       "      <td>soft</td>\n",
       "      <td>good</td>\n",
       "      <td>insufficient</td>\n",
       "      <td>insufficient</td>\n",
       "      <td>rainwater harvesting</td>\n",
       "      <td>rainwater harvesting</td>\n",
       "      <td>surface</td>\n",
       "      <td>communal standpipe</td>\n",
       "      <td>communal standpipe</td>\n",
       "    </tr>\n",
       "    <tr>\n",
       "      <th>2</th>\n",
       "      <td>34310</td>\n",
       "      <td>25.0</td>\n",
       "      <td>2013-02-25</td>\n",
       "      <td>Lottery Club</td>\n",
       "      <td>686</td>\n",
       "      <td>World vision</td>\n",
       "      <td>37.460664</td>\n",
       "      <td>-3.821329</td>\n",
       "      <td>Kwa Mahundi</td>\n",
       "      <td>0</td>\n",
       "      <td>...</td>\n",
       "      <td>per bucket</td>\n",
       "      <td>soft</td>\n",
       "      <td>good</td>\n",
       "      <td>enough</td>\n",
       "      <td>enough</td>\n",
       "      <td>dam</td>\n",
       "      <td>dam</td>\n",
       "      <td>surface</td>\n",
       "      <td>communal standpipe multiple</td>\n",
       "      <td>communal standpipe</td>\n",
       "    </tr>\n",
       "    <tr>\n",
       "      <th>3</th>\n",
       "      <td>67743</td>\n",
       "      <td>0.0</td>\n",
       "      <td>2013-01-28</td>\n",
       "      <td>Unicef</td>\n",
       "      <td>263</td>\n",
       "      <td>UNICEF</td>\n",
       "      <td>38.486161</td>\n",
       "      <td>-11.155298</td>\n",
       "      <td>Zahanati Ya Nanyumbu</td>\n",
       "      <td>0</td>\n",
       "      <td>...</td>\n",
       "      <td>never pay</td>\n",
       "      <td>soft</td>\n",
       "      <td>good</td>\n",
       "      <td>dry</td>\n",
       "      <td>dry</td>\n",
       "      <td>machine dbh</td>\n",
       "      <td>borehole</td>\n",
       "      <td>groundwater</td>\n",
       "      <td>communal standpipe multiple</td>\n",
       "      <td>communal standpipe</td>\n",
       "    </tr>\n",
       "    <tr>\n",
       "      <th>4</th>\n",
       "      <td>19728</td>\n",
       "      <td>0.0</td>\n",
       "      <td>2011-07-13</td>\n",
       "      <td>Action In A</td>\n",
       "      <td>0</td>\n",
       "      <td>Artisan</td>\n",
       "      <td>31.130847</td>\n",
       "      <td>-1.825359</td>\n",
       "      <td>Shuleni</td>\n",
       "      <td>0</td>\n",
       "      <td>...</td>\n",
       "      <td>never pay</td>\n",
       "      <td>soft</td>\n",
       "      <td>good</td>\n",
       "      <td>seasonal</td>\n",
       "      <td>seasonal</td>\n",
       "      <td>rainwater harvesting</td>\n",
       "      <td>rainwater harvesting</td>\n",
       "      <td>surface</td>\n",
       "      <td>communal standpipe</td>\n",
       "      <td>communal standpipe</td>\n",
       "    </tr>\n",
       "  </tbody>\n",
       "</table>\n",
       "<p>5 rows × 40 columns</p>\n",
       "</div>"
      ],
      "text/plain": [
       "      id  amount_tsh date_recorded        funder  gps_height     installer  \\\n",
       "0  69572      6000.0    2011-03-14         Roman        1390         Roman   \n",
       "1   8776         0.0    2013-03-06       Grumeti        1399       GRUMETI   \n",
       "2  34310        25.0    2013-02-25  Lottery Club         686  World vision   \n",
       "3  67743         0.0    2013-01-28        Unicef         263        UNICEF   \n",
       "4  19728         0.0    2011-07-13   Action In A           0       Artisan   \n",
       "\n",
       "   longitude   latitude              wpt_name  num_private  ... payment_type  \\\n",
       "0  34.938093  -9.856322                  none            0  ...     annually   \n",
       "1  34.698766  -2.147466              Zahanati            0  ...    never pay   \n",
       "2  37.460664  -3.821329           Kwa Mahundi            0  ...   per bucket   \n",
       "3  38.486161 -11.155298  Zahanati Ya Nanyumbu            0  ...    never pay   \n",
       "4  31.130847  -1.825359               Shuleni            0  ...    never pay   \n",
       "\n",
       "  water_quality quality_group      quantity  quantity_group  \\\n",
       "0          soft          good        enough          enough   \n",
       "1          soft          good  insufficient    insufficient   \n",
       "2          soft          good        enough          enough   \n",
       "3          soft          good           dry             dry   \n",
       "4          soft          good      seasonal        seasonal   \n",
       "\n",
       "                 source           source_type  source_class  \\\n",
       "0                spring                spring   groundwater   \n",
       "1  rainwater harvesting  rainwater harvesting       surface   \n",
       "2                   dam                   dam       surface   \n",
       "3           machine dbh              borehole   groundwater   \n",
       "4  rainwater harvesting  rainwater harvesting       surface   \n",
       "\n",
       "               waterpoint_type waterpoint_type_group  \n",
       "0           communal standpipe    communal standpipe  \n",
       "1           communal standpipe    communal standpipe  \n",
       "2  communal standpipe multiple    communal standpipe  \n",
       "3  communal standpipe multiple    communal standpipe  \n",
       "4           communal standpipe    communal standpipe  \n",
       "\n",
       "[5 rows x 40 columns]"
      ]
     },
     "execution_count": 3,
     "metadata": {},
     "output_type": "execute_result"
    }
   ],
   "source": [
    "features.head()"
   ]
  },
  {
   "cell_type": "code",
   "execution_count": 4,
   "id": "858b5713",
   "metadata": {},
   "outputs": [
    {
     "data": {
      "text/plain": [
       "['id',\n",
       " 'amount_tsh',\n",
       " 'date_recorded',\n",
       " 'funder',\n",
       " 'gps_height',\n",
       " 'installer',\n",
       " 'longitude',\n",
       " 'latitude',\n",
       " 'wpt_name',\n",
       " 'num_private',\n",
       " 'basin',\n",
       " 'subvillage',\n",
       " 'region',\n",
       " 'region_code',\n",
       " 'district_code',\n",
       " 'lga',\n",
       " 'ward',\n",
       " 'population',\n",
       " 'public_meeting',\n",
       " 'recorded_by',\n",
       " 'scheme_management',\n",
       " 'scheme_name',\n",
       " 'permit',\n",
       " 'construction_year',\n",
       " 'extraction_type',\n",
       " 'extraction_type_group',\n",
       " 'extraction_type_class',\n",
       " 'management',\n",
       " 'management_group',\n",
       " 'payment',\n",
       " 'payment_type',\n",
       " 'water_quality',\n",
       " 'quality_group',\n",
       " 'quantity',\n",
       " 'quantity_group',\n",
       " 'source',\n",
       " 'source_type',\n",
       " 'source_class',\n",
       " 'waterpoint_type',\n",
       " 'waterpoint_type_group']"
      ]
     },
     "execution_count": 4,
     "metadata": {},
     "output_type": "execute_result"
    }
   ],
   "source": [
    "list(features.columns)\n",
    "#Has 40 columns"
   ]
  },
  {
   "cell_type": "markdown",
   "id": "f76fb226",
   "metadata": {},
   "source": [
    "> This are feature of the data"
   ]
  },
  {
   "cell_type": "markdown",
   "id": "03051e5c",
   "metadata": {},
   "source": [
    "#### Looking into target variable"
   ]
  },
  {
   "cell_type": "code",
   "execution_count": null,
   "id": "eb82c424",
   "metadata": {},
   "outputs": [],
   "source": []
  },
  {
   "cell_type": "code",
   "execution_count": 5,
   "id": "ca9a1832",
   "metadata": {
    "scrolled": false
   },
   "outputs": [
    {
     "data": {
      "text/html": [
       "<div>\n",
       "<style scoped>\n",
       "    .dataframe tbody tr th:only-of-type {\n",
       "        vertical-align: middle;\n",
       "    }\n",
       "\n",
       "    .dataframe tbody tr th {\n",
       "        vertical-align: top;\n",
       "    }\n",
       "\n",
       "    .dataframe thead th {\n",
       "        text-align: right;\n",
       "    }\n",
       "</style>\n",
       "<table border=\"1\" class=\"dataframe\">\n",
       "  <thead>\n",
       "    <tr style=\"text-align: right;\">\n",
       "      <th></th>\n",
       "      <th>id</th>\n",
       "      <th>status_group</th>\n",
       "    </tr>\n",
       "  </thead>\n",
       "  <tbody>\n",
       "    <tr>\n",
       "      <th>0</th>\n",
       "      <td>69572</td>\n",
       "      <td>functional</td>\n",
       "    </tr>\n",
       "    <tr>\n",
       "      <th>1</th>\n",
       "      <td>8776</td>\n",
       "      <td>functional</td>\n",
       "    </tr>\n",
       "    <tr>\n",
       "      <th>2</th>\n",
       "      <td>34310</td>\n",
       "      <td>functional</td>\n",
       "    </tr>\n",
       "    <tr>\n",
       "      <th>3</th>\n",
       "      <td>67743</td>\n",
       "      <td>non functional</td>\n",
       "    </tr>\n",
       "    <tr>\n",
       "      <th>4</th>\n",
       "      <td>19728</td>\n",
       "      <td>functional</td>\n",
       "    </tr>\n",
       "  </tbody>\n",
       "</table>\n",
       "</div>"
      ],
      "text/plain": [
       "      id    status_group\n",
       "0  69572      functional\n",
       "1   8776      functional\n",
       "2  34310      functional\n",
       "3  67743  non functional\n",
       "4  19728      functional"
      ]
     },
     "execution_count": 5,
     "metadata": {},
     "output_type": "execute_result"
    }
   ],
   "source": [
    "target.head()"
   ]
  },
  {
   "cell_type": "code",
   "execution_count": 6,
   "id": "5938a2d5",
   "metadata": {},
   "outputs": [
    {
     "data": {
      "text/plain": [
       "status_group\n",
       "functional                 32259\n",
       "non functional             22824\n",
       "functional needs repair     4317\n",
       "dtype: int64"
      ]
     },
     "execution_count": 6,
     "metadata": {},
     "output_type": "execute_result"
    }
   ],
   "source": [
    "#count the distribution per status_group\n",
    "target.value_counts('status_group')"
   ]
  },
  {
   "cell_type": "code",
   "execution_count": 7,
   "id": "eba99f91",
   "metadata": {},
   "outputs": [
    {
     "name": "stderr",
     "output_type": "stream",
     "text": [
      "C:\\Users\\ADMIN\\anaconda3\\lib\\site-packages\\seaborn\\_decorators.py:36: FutureWarning: Pass the following variable as a keyword arg: x. From version 0.12, the only valid positional argument will be `data`, and passing other arguments without an explicit keyword will result in an error or misinterpretation.\n",
      "  warnings.warn(\n"
     ]
    },
    {
     "data": {
      "image/png": "[encoded data removed]",
      "text/plain": [
       "<Figure size 432x288 with 1 Axes>"
      ]
     },
     "metadata": {
      "needs_background": "light"
     },
     "output_type": "display_data"
    }
   ],
   "source": [
    "#plotting graph to show distribution of data\n",
    "# Plot the histogram\n",
    "sns.countplot(target['status_group'])\n",
    "\n",
    "# Set the title\n",
    "plt.title(\"Distribution of Status Groups\")\n",
    "\n",
    "# Add labels to the x and y axes\n",
    "plt.xlabel(\"Status Group\")\n",
    "plt.ylabel(\"Frequency\")\n",
    "\n",
    "# Rotate the x-tick labels for readability\n",
    "plt.xticks(rotation=30)\n",
    "\n",
    "# Use Seaborn's default style\n",
    "sns.set_style(\"darkgrid\")\n",
    "\n",
    "# Show the plot\n",
    "plt.show();"
   ]
  },
  {
   "cell_type": "markdown",
   "id": "87ae7ff4",
   "metadata": {},
   "source": [
    "> Lets is see this in numerical percentages."
   ]
  },
  {
   "cell_type": "code",
   "execution_count": 8,
   "id": "0e903d18",
   "metadata": {},
   "outputs": [
    {
     "data": {
      "text/plain": [
       "functional                 0.543081\n",
       "non functional             0.384242\n",
       "functional needs repair    0.072677\n",
       "Name: status_group, dtype: float64"
      ]
     },
     "execution_count": 8,
     "metadata": {},
     "output_type": "execute_result"
    }
   ],
   "source": [
    "target.status_group.value_counts()/len(target.status_group)"
   ]
  },
  {
   "cell_type": "markdown",
   "id": "bef97295",
   "metadata": {},
   "source": [
    "> **54.31%** represent Functional Pumps, \n",
    "**38.42%** represent non-functional fumpus, \n",
    "**7.27%** represent functional but which needs to be repaired."
   ]
  },
  {
   "cell_type": "markdown",
   "id": "a51a59e8",
   "metadata": {},
   "source": [
    "Thses percentages gives us a good chance for find the statistical values behind a certin pump. For example we have a 54.31% chance of picking a fully oparational pump."
   ]
  },
  {
   "cell_type": "markdown",
   "id": "895718ee",
   "metadata": {},
   "source": [
    "#### Joining the dateframe for cleaning and EDA"
   ]
  },
  {
   "cell_type": "code",
   "execution_count": 9,
   "id": "80bfc3dc",
   "metadata": {},
   "outputs": [],
   "source": [
    "training_data = pd.merge(features,target)"
   ]
  },
  {
   "cell_type": "code",
   "execution_count": 10,
   "id": "934ba19d",
   "metadata": {},
   "outputs": [
    {
     "data": {
      "text/html": [
       "<div>\n",
       "<style scoped>\n",
       "    .dataframe tbody tr th:only-of-type {\n",
       "        vertical-align: middle;\n",
       "    }\n",
       "\n",
       "    .dataframe tbody tr th {\n",
       "        vertical-align: top;\n",
       "    }\n",
       "\n",
       "    .dataframe thead th {\n",
       "        text-align: right;\n",
       "    }\n",
       "</style>\n",
       "<table border=\"1\" class=\"dataframe\">\n",
       "  <thead>\n",
       "    <tr style=\"text-align: right;\">\n",
       "      <th></th>\n",
       "      <th>id</th>\n",
       "      <th>amount_tsh</th>\n",
       "      <th>date_recorded</th>\n",
       "      <th>funder</th>\n",
       "      <th>gps_height</th>\n",
       "      <th>installer</th>\n",
       "      <th>longitude</th>\n",
       "      <th>latitude</th>\n",
       "      <th>wpt_name</th>\n",
       "      <th>num_private</th>\n",
       "      <th>...</th>\n",
       "      <th>water_quality</th>\n",
       "      <th>quality_group</th>\n",
       "      <th>quantity</th>\n",
       "      <th>quantity_group</th>\n",
       "      <th>source</th>\n",
       "      <th>source_type</th>\n",
       "      <th>source_class</th>\n",
       "      <th>waterpoint_type</th>\n",
       "      <th>waterpoint_type_group</th>\n",
       "      <th>status_group</th>\n",
       "    </tr>\n",
       "  </thead>\n",
       "  <tbody>\n",
       "    <tr>\n",
       "      <th>0</th>\n",
       "      <td>69572</td>\n",
       "      <td>6000.0</td>\n",
       "      <td>2011-03-14</td>\n",
       "      <td>Roman</td>\n",
       "      <td>1390</td>\n",
       "      <td>Roman</td>\n",
       "      <td>34.938093</td>\n",
       "      <td>-9.856322</td>\n",
       "      <td>none</td>\n",
       "      <td>0</td>\n",
       "      <td>...</td>\n",
       "      <td>soft</td>\n",
       "      <td>good</td>\n",
       "      <td>enough</td>\n",
       "      <td>enough</td>\n",
       "      <td>spring</td>\n",
       "      <td>spring</td>\n",
       "      <td>groundwater</td>\n",
       "      <td>communal standpipe</td>\n",
       "      <td>communal standpipe</td>\n",
       "      <td>functional</td>\n",
       "    </tr>\n",
       "    <tr>\n",
       "      <th>1</th>\n",
       "      <td>8776</td>\n",
       "      <td>0.0</td>\n",
       "      <td>2013-03-06</td>\n",
       "      <td>Grumeti</td>\n",
       "      <td>1399</td>\n",
       "      <td>GRUMETI</td>\n",
       "      <td>34.698766</td>\n",
       "      <td>-2.147466</td>\n",
       "      <td>Zahanati</td>\n",
       "      <td>0</td>\n",
       "      <td>...</td>\n",
       "      <td>soft</td>\n",
       "      <td>good</td>\n",
       "      <td>insufficient</td>\n",
       "      <td>insufficient</td>\n",
       "      <td>rainwater harvesting</td>\n",
       "      <td>rainwater harvesting</td>\n",
       "      <td>surface</td>\n",
       "      <td>communal standpipe</td>\n",
       "      <td>communal standpipe</td>\n",
       "      <td>functional</td>\n",
       "    </tr>\n",
       "    <tr>\n",
       "      <th>2</th>\n",
       "      <td>34310</td>\n",
       "      <td>25.0</td>\n",
       "      <td>2013-02-25</td>\n",
       "      <td>Lottery Club</td>\n",
       "      <td>686</td>\n",
       "      <td>World vision</td>\n",
       "      <td>37.460664</td>\n",
       "      <td>-3.821329</td>\n",
       "      <td>Kwa Mahundi</td>\n",
       "      <td>0</td>\n",
       "      <td>...</td>\n",
       "      <td>soft</td>\n",
       "      <td>good</td>\n",
       "      <td>enough</td>\n",
       "      <td>enough</td>\n",
       "      <td>dam</td>\n",
       "      <td>dam</td>\n",
       "      <td>surface</td>\n",
       "      <td>communal standpipe multiple</td>\n",
       "      <td>communal standpipe</td>\n",
       "      <td>functional</td>\n",
       "    </tr>\n",
       "    <tr>\n",
       "      <th>3</th>\n",
       "      <td>67743</td>\n",
       "      <td>0.0</td>\n",
       "      <td>2013-01-28</td>\n",
       "      <td>Unicef</td>\n",
       "      <td>263</td>\n",
       "      <td>UNICEF</td>\n",
       "      <td>38.486161</td>\n",
       "      <td>-11.155298</td>\n",
       "      <td>Zahanati Ya Nanyumbu</td>\n",
       "      <td>0</td>\n",
       "      <td>...</td>\n",
       "      <td>soft</td>\n",
       "      <td>good</td>\n",
       "      <td>dry</td>\n",
       "      <td>dry</td>\n",
       "      <td>machine dbh</td>\n",
       "      <td>borehole</td>\n",
       "      <td>groundwater</td>\n",
       "      <td>communal standpipe multiple</td>\n",
       "      <td>communal standpipe</td>\n",
       "      <td>non functional</td>\n",
       "    </tr>\n",
       "    <tr>\n",
       "      <th>4</th>\n",
       "      <td>19728</td>\n",
       "      <td>0.0</td>\n",
       "      <td>2011-07-13</td>\n",
       "      <td>Action In A</td>\n",
       "      <td>0</td>\n",
       "      <td>Artisan</td>\n",
       "      <td>31.130847</td>\n",
       "      <td>-1.825359</td>\n",
       "      <td>Shuleni</td>\n",
       "      <td>0</td>\n",
       "      <td>...</td>\n",
       "      <td>soft</td>\n",
       "      <td>good</td>\n",
       "      <td>seasonal</td>\n",
       "      <td>seasonal</td>\n",
       "      <td>rainwater harvesting</td>\n",
       "      <td>rainwater harvesting</td>\n",
       "      <td>surface</td>\n",
       "      <td>communal standpipe</td>\n",
       "      <td>communal standpipe</td>\n",
       "      <td>functional</td>\n",
       "    </tr>\n",
       "  </tbody>\n",
       "</table>\n",
       "<p>5 rows × 41 columns</p>\n",
       "</div>"
      ],
      "text/plain": [
       "      id  amount_tsh date_recorded        funder  gps_height     installer  \\\n",
       "0  69572      6000.0    2011-03-14         Roman        1390         Roman   \n",
       "1   8776         0.0    2013-03-06       Grumeti        1399       GRUMETI   \n",
       "2  34310        25.0    2013-02-25  Lottery Club         686  World vision   \n",
       "3  67743         0.0    2013-01-28        Unicef         263        UNICEF   \n",
       "4  19728         0.0    2011-07-13   Action In A           0       Artisan   \n",
       "\n",
       "   longitude   latitude              wpt_name  num_private  ... water_quality  \\\n",
       "0  34.938093  -9.856322                  none            0  ...          soft   \n",
       "1  34.698766  -2.147466              Zahanati            0  ...          soft   \n",
       "2  37.460664  -3.821329           Kwa Mahundi            0  ...          soft   \n",
       "3  38.486161 -11.155298  Zahanati Ya Nanyumbu            0  ...          soft   \n",
       "4  31.130847  -1.825359               Shuleni            0  ...          soft   \n",
       "\n",
       "  quality_group      quantity  quantity_group                source  \\\n",
       "0          good        enough          enough                spring   \n",
       "1          good  insufficient    insufficient  rainwater harvesting   \n",
       "2          good        enough          enough                   dam   \n",
       "3          good           dry             dry           machine dbh   \n",
       "4          good      seasonal        seasonal  rainwater harvesting   \n",
       "\n",
       "            source_type source_class              waterpoint_type  \\\n",
       "0                spring  groundwater           communal standpipe   \n",
       "1  rainwater harvesting      surface           communal standpipe   \n",
       "2                   dam      surface  communal standpipe multiple   \n",
       "3              borehole  groundwater  communal standpipe multiple   \n",
       "4  rainwater harvesting      surface           communal standpipe   \n",
       "\n",
       "  waterpoint_type_group    status_group  \n",
       "0    communal standpipe      functional  \n",
       "1    communal standpipe      functional  \n",
       "2    communal standpipe      functional  \n",
       "3    communal standpipe  non functional  \n",
       "4    communal standpipe      functional  \n",
       "\n",
       "[5 rows x 41 columns]"
      ]
     },
     "execution_count": 10,
     "metadata": {},
     "output_type": "execute_result"
    }
   ],
   "source": [
    "training_data.head()"
   ]
  },
  {
   "cell_type": "code",
   "execution_count": 11,
   "id": "6b68eb73",
   "metadata": {},
   "outputs": [
    {
     "name": "stdout",
     "output_type": "stream",
     "text": [
      "<class 'pandas.core.frame.DataFrame'>\n",
      "Int64Index: 59400 entries, 0 to 59399\n",
      "Data columns (total 41 columns):\n",
      " #   Column                 Non-Null Count  Dtype  \n",
      "---  ------                 --------------  -----  \n",
      " 0   id                     59400 non-null  int64  \n",
      " 1   amount_tsh             59400 non-null  float64\n",
      " 2   date_recorded          59400 non-null  object \n",
      " 3   funder                 55765 non-null  object \n",
      " 4   gps_height             59400 non-null  int64  \n",
      " 5   installer              55745 non-null  object \n",
      " 6   longitude              59400 non-null  float64\n",
      " 7   latitude               59400 non-null  float64\n",
      " 8   wpt_name               59400 non-null  object \n",
      " 9   num_private            59400 non-null  int64  \n",
      " 10  basin                  59400 non-null  object \n",
      " 11  subvillage             59029 non-null  object \n",
      " 12  region                 59400 non-null  object \n",
      " 13  region_code            59400 non-null  int64  \n",
      " 14  district_code          59400 non-null  int64  \n",
      " 15  lga                    59400 non-null  object \n",
      " 16  ward                   59400 non-null  object \n",
      " 17  population             59400 non-null  int64  \n",
      " 18  public_meeting         56066 non-null  object \n",
      " 19  recorded_by            59400 non-null  object \n",
      " 20  scheme_management      55523 non-null  object \n",
      " 21  scheme_name            31234 non-null  object \n",
      " 22  permit                 56344 non-null  object \n",
      " 23  construction_year      59400 non-null  int64  \n",
      " 24  extraction_type        59400 non-null  object \n",
      " 25  extraction_type_group  59400 non-null  object \n",
      " 26  extraction_type_class  59400 non-null  object \n",
      " 27  management             59400 non-null  object \n",
      " 28  management_group       59400 non-null  object \n",
      " 29  payment                59400 non-null  object \n",
      " 30  payment_type           59400 non-null  object \n",
      " 31  water_quality          59400 non-null  object \n",
      " 32  quality_group          59400 non-null  object \n",
      " 33  quantity               59400 non-null  object \n",
      " 34  quantity_group         59400 non-null  object \n",
      " 35  source                 59400 non-null  object \n",
      " 36  source_type            59400 non-null  object \n",
      " 37  source_class           59400 non-null  object \n",
      " 38  waterpoint_type        59400 non-null  object \n",
      " 39  waterpoint_type_group  59400 non-null  object \n",
      " 40  status_group           59400 non-null  object \n",
      "dtypes: float64(3), int64(7), object(31)\n",
      "memory usage: 19.0+ MB\n"
     ]
    }
   ],
   "source": [
    "# check data types for numerical or categroical data\n",
    "training_data.info()"
   ]
  },
  {
   "cell_type": "markdown",
   "id": "0ba19390",
   "metadata": {},
   "source": [
    "> Dropping the columns with group since they seem to be haing the same values (duplicate columns) and some are irrelevant columns."
   ]
  },
  {
   "cell_type": "markdown",
   "id": "c2f72bd9",
   "metadata": {},
   "source": [
    "1. (extraction_type, extraction_type_group, extraction_type_class) \n",
    "2. (payment, payment_type)\n",
    "3. (water_quality, quality_group) \n",
    "4. (source, source_class)\n",
    "5. (subvillage, region, region_code, district_code, lga, ward) \n",
    "6. (waterpoint_type, waterpoint_type_group) "
   ]
  },
  {
   "cell_type": "code",
   "execution_count": 12,
   "id": "ecd012ee",
   "metadata": {},
   "outputs": [],
   "source": [
    "training_data = training_data.drop(['id','source','wpt_name', 'num_private', 'region', \n",
    "          'quantity','quality_group','lga','ward','management', 'payment', \n",
    "           'extraction_type_group','extraction_type_class','recorded_by','waterpoint_type_group'],axis = 1)\n",
    "\n"
   ]
  },
  {
   "cell_type": "code",
   "execution_count": 13,
   "id": "bc21a2ab",
   "metadata": {},
   "outputs": [
    {
     "data": {
      "text/html": [
       "<div>\n",
       "<style scoped>\n",
       "    .dataframe tbody tr th:only-of-type {\n",
       "        vertical-align: middle;\n",
       "    }\n",
       "\n",
       "    .dataframe tbody tr th {\n",
       "        vertical-align: top;\n",
       "    }\n",
       "\n",
       "    .dataframe thead th {\n",
       "        text-align: right;\n",
       "    }\n",
       "</style>\n",
       "<table border=\"1\" class=\"dataframe\">\n",
       "  <thead>\n",
       "    <tr style=\"text-align: right;\">\n",
       "      <th></th>\n",
       "      <th>amount_tsh</th>\n",
       "      <th>date_recorded</th>\n",
       "      <th>funder</th>\n",
       "      <th>gps_height</th>\n",
       "      <th>installer</th>\n",
       "      <th>longitude</th>\n",
       "      <th>latitude</th>\n",
       "      <th>basin</th>\n",
       "      <th>subvillage</th>\n",
       "      <th>region_code</th>\n",
       "      <th>...</th>\n",
       "      <th>construction_year</th>\n",
       "      <th>extraction_type</th>\n",
       "      <th>management_group</th>\n",
       "      <th>payment_type</th>\n",
       "      <th>water_quality</th>\n",
       "      <th>quantity_group</th>\n",
       "      <th>source_type</th>\n",
       "      <th>source_class</th>\n",
       "      <th>waterpoint_type</th>\n",
       "      <th>status_group</th>\n",
       "    </tr>\n",
       "  </thead>\n",
       "  <tbody>\n",
       "    <tr>\n",
       "      <th>0</th>\n",
       "      <td>6000.0</td>\n",
       "      <td>2011-03-14</td>\n",
       "      <td>Roman</td>\n",
       "      <td>1390</td>\n",
       "      <td>Roman</td>\n",
       "      <td>34.938093</td>\n",
       "      <td>-9.856322</td>\n",
       "      <td>Lake Nyasa</td>\n",
       "      <td>Mnyusi B</td>\n",
       "      <td>11</td>\n",
       "      <td>...</td>\n",
       "      <td>1999</td>\n",
       "      <td>gravity</td>\n",
       "      <td>user-group</td>\n",
       "      <td>annually</td>\n",
       "      <td>soft</td>\n",
       "      <td>enough</td>\n",
       "      <td>spring</td>\n",
       "      <td>groundwater</td>\n",
       "      <td>communal standpipe</td>\n",
       "      <td>functional</td>\n",
       "    </tr>\n",
       "    <tr>\n",
       "      <th>1</th>\n",
       "      <td>0.0</td>\n",
       "      <td>2013-03-06</td>\n",
       "      <td>Grumeti</td>\n",
       "      <td>1399</td>\n",
       "      <td>GRUMETI</td>\n",
       "      <td>34.698766</td>\n",
       "      <td>-2.147466</td>\n",
       "      <td>Lake Victoria</td>\n",
       "      <td>Nyamara</td>\n",
       "      <td>20</td>\n",
       "      <td>...</td>\n",
       "      <td>2010</td>\n",
       "      <td>gravity</td>\n",
       "      <td>user-group</td>\n",
       "      <td>never pay</td>\n",
       "      <td>soft</td>\n",
       "      <td>insufficient</td>\n",
       "      <td>rainwater harvesting</td>\n",
       "      <td>surface</td>\n",
       "      <td>communal standpipe</td>\n",
       "      <td>functional</td>\n",
       "    </tr>\n",
       "    <tr>\n",
       "      <th>2</th>\n",
       "      <td>25.0</td>\n",
       "      <td>2013-02-25</td>\n",
       "      <td>Lottery Club</td>\n",
       "      <td>686</td>\n",
       "      <td>World vision</td>\n",
       "      <td>37.460664</td>\n",
       "      <td>-3.821329</td>\n",
       "      <td>Pangani</td>\n",
       "      <td>Majengo</td>\n",
       "      <td>21</td>\n",
       "      <td>...</td>\n",
       "      <td>2009</td>\n",
       "      <td>gravity</td>\n",
       "      <td>user-group</td>\n",
       "      <td>per bucket</td>\n",
       "      <td>soft</td>\n",
       "      <td>enough</td>\n",
       "      <td>dam</td>\n",
       "      <td>surface</td>\n",
       "      <td>communal standpipe multiple</td>\n",
       "      <td>functional</td>\n",
       "    </tr>\n",
       "    <tr>\n",
       "      <th>3</th>\n",
       "      <td>0.0</td>\n",
       "      <td>2013-01-28</td>\n",
       "      <td>Unicef</td>\n",
       "      <td>263</td>\n",
       "      <td>UNICEF</td>\n",
       "      <td>38.486161</td>\n",
       "      <td>-11.155298</td>\n",
       "      <td>Ruvuma / Southern Coast</td>\n",
       "      <td>Mahakamani</td>\n",
       "      <td>90</td>\n",
       "      <td>...</td>\n",
       "      <td>1986</td>\n",
       "      <td>submersible</td>\n",
       "      <td>user-group</td>\n",
       "      <td>never pay</td>\n",
       "      <td>soft</td>\n",
       "      <td>dry</td>\n",
       "      <td>borehole</td>\n",
       "      <td>groundwater</td>\n",
       "      <td>communal standpipe multiple</td>\n",
       "      <td>non functional</td>\n",
       "    </tr>\n",
       "    <tr>\n",
       "      <th>4</th>\n",
       "      <td>0.0</td>\n",
       "      <td>2011-07-13</td>\n",
       "      <td>Action In A</td>\n",
       "      <td>0</td>\n",
       "      <td>Artisan</td>\n",
       "      <td>31.130847</td>\n",
       "      <td>-1.825359</td>\n",
       "      <td>Lake Victoria</td>\n",
       "      <td>Kyanyamisa</td>\n",
       "      <td>18</td>\n",
       "      <td>...</td>\n",
       "      <td>0</td>\n",
       "      <td>gravity</td>\n",
       "      <td>other</td>\n",
       "      <td>never pay</td>\n",
       "      <td>soft</td>\n",
       "      <td>seasonal</td>\n",
       "      <td>rainwater harvesting</td>\n",
       "      <td>surface</td>\n",
       "      <td>communal standpipe</td>\n",
       "      <td>functional</td>\n",
       "    </tr>\n",
       "  </tbody>\n",
       "</table>\n",
       "<p>5 rows × 26 columns</p>\n",
       "</div>"
      ],
      "text/plain": [
       "   amount_tsh date_recorded        funder  gps_height     installer  \\\n",
       "0      6000.0    2011-03-14         Roman        1390         Roman   \n",
       "1         0.0    2013-03-06       Grumeti        1399       GRUMETI   \n",
       "2        25.0    2013-02-25  Lottery Club         686  World vision   \n",
       "3         0.0    2013-01-28        Unicef         263        UNICEF   \n",
       "4         0.0    2011-07-13   Action In A           0       Artisan   \n",
       "\n",
       "   longitude   latitude                    basin  subvillage  region_code  \\\n",
       "0  34.938093  -9.856322               Lake Nyasa    Mnyusi B           11   \n",
       "1  34.698766  -2.147466            Lake Victoria     Nyamara           20   \n",
       "2  37.460664  -3.821329                  Pangani     Majengo           21   \n",
       "3  38.486161 -11.155298  Ruvuma / Southern Coast  Mahakamani           90   \n",
       "4  31.130847  -1.825359            Lake Victoria  Kyanyamisa           18   \n",
       "\n",
       "   ...  construction_year  extraction_type management_group payment_type  \\\n",
       "0  ...               1999          gravity       user-group     annually   \n",
       "1  ...               2010          gravity       user-group    never pay   \n",
       "2  ...               2009          gravity       user-group   per bucket   \n",
       "3  ...               1986      submersible       user-group    never pay   \n",
       "4  ...                  0          gravity            other    never pay   \n",
       "\n",
       "  water_quality quantity_group           source_type source_class  \\\n",
       "0          soft         enough                spring  groundwater   \n",
       "1          soft   insufficient  rainwater harvesting      surface   \n",
       "2          soft         enough                   dam      surface   \n",
       "3          soft            dry              borehole  groundwater   \n",
       "4          soft       seasonal  rainwater harvesting      surface   \n",
       "\n",
       "               waterpoint_type    status_group  \n",
       "0           communal standpipe      functional  \n",
       "1           communal standpipe      functional  \n",
       "2  communal standpipe multiple      functional  \n",
       "3  communal standpipe multiple  non functional  \n",
       "4           communal standpipe      functional  \n",
       "\n",
       "[5 rows x 26 columns]"
      ]
     },
     "execution_count": 13,
     "metadata": {},
     "output_type": "execute_result"
    }
   ],
   "source": [
    "training_data.head()"
   ]
  },
  {
   "cell_type": "code",
   "execution_count": null,
   "id": "99c875d9",
   "metadata": {},
   "outputs": [],
   "source": []
  },
  {
   "cell_type": "markdown",
   "id": "ff811872",
   "metadata": {},
   "source": [
    "#### Checking for missing values"
   ]
  },
  {
   "cell_type": "code",
   "execution_count": 14,
   "id": "8c318038",
   "metadata": {},
   "outputs": [
    {
     "data": {
      "text/plain": [
       "amount_tsh               0\n",
       "date_recorded            0\n",
       "funder                3635\n",
       "gps_height               0\n",
       "installer             3655\n",
       "longitude                0\n",
       "latitude                 0\n",
       "basin                    0\n",
       "subvillage             371\n",
       "region_code              0\n",
       "district_code            0\n",
       "population               0\n",
       "public_meeting        3334\n",
       "scheme_management     3877\n",
       "scheme_name          28166\n",
       "permit                3056\n",
       "construction_year        0\n",
       "extraction_type          0\n",
       "management_group         0\n",
       "payment_type             0\n",
       "water_quality            0\n",
       "quantity_group           0\n",
       "source_type              0\n",
       "source_class             0\n",
       "waterpoint_type          0\n",
       "status_group             0\n",
       "dtype: int64"
      ]
     },
     "execution_count": 14,
     "metadata": {},
     "output_type": "execute_result"
    }
   ],
   "source": [
    "training_data.isna().sum()"
   ]
  },
  {
   "cell_type": "code",
   "execution_count": 15,
   "id": "3852d9cf",
   "metadata": {},
   "outputs": [],
   "source": [
    "#### Dealing with missing values one by one"
   ]
  },
  {
   "cell_type": "markdown",
   "id": "18d5d266",
   "metadata": {},
   "source": [
    "#### Funder"
   ]
  },
  {
   "cell_type": "code",
   "execution_count": 16,
   "id": "8161df76",
   "metadata": {},
   "outputs": [
    {
     "data": {
      "text/plain": [
       "Government Of Tanzania            9084\n",
       "Danida                            3114\n",
       "Hesawa                            2202\n",
       "Rwssp                             1374\n",
       "World Bank                        1349\n",
       "Kkkt                              1287\n",
       "World Vision                      1246\n",
       "Unicef                            1057\n",
       "Tasaf                              877\n",
       "District Council                   843\n",
       "Dhv                                829\n",
       "Private Individual                 826\n",
       "Dwsp                               811\n",
       "0                                  777\n",
       "Norad                              765\n",
       "Germany Republi                    610\n",
       "Tcrs                               602\n",
       "Ministry Of Water                  590\n",
       "Water                              583\n",
       "Dwe                                484\n",
       "Netherlands                        470\n",
       "Hifab                              450\n",
       "Adb                                448\n",
       "Lga                                442\n",
       "Amref                              425\n",
       "Fini Water                         393\n",
       "Oxfam                              359\n",
       "Wateraid                           333\n",
       "Rc Church                          321\n",
       "Isf                                316\n",
       "Rudep                              312\n",
       "Mission                            301\n",
       "Private                            295\n",
       "Jaica                              280\n",
       "Roman                              275\n",
       "Rural Water Supply And Sanitat     270\n",
       "Adra                               263\n",
       "Ces(gmbh)                          260\n",
       "Jica                               259\n",
       "Shipo                              241\n",
       "Wsdp                               234\n",
       "Rc                                 230\n",
       "Finw                               219\n",
       "Dh                                 213\n",
       "Ded                                198\n",
       "Plan Int                           195\n",
       "Kiliwater                          189\n",
       "Dmdd                               186\n",
       "Go                                 181\n",
       "Lawatefuka Water Supply            180\n",
       "Name: funder, dtype: int64"
      ]
     },
     "execution_count": 16,
     "metadata": {},
     "output_type": "execute_result"
    }
   ],
   "source": [
    "training_data.funder.value_counts().head(50)"
   ]
  },
  {
   "cell_type": "markdown",
   "id": "ed7ca7ac",
   "metadata": {},
   "source": [
    "In addition to the 3635 NaNs, there are 777 that have the entry “0”.\n",
    "I’m assuming these are missing values too, so altogether we have 4412 missing values.\n"
   ]
  },
  {
   "cell_type": "code",
   "execution_count": 17,
   "id": "2d27ade4",
   "metadata": {},
   "outputs": [],
   "source": [
    "training_data['funder'] = training_data['funder'].fillna(0)# fill null with zero\n",
    "training_data['funder'] = np.where(training_data['funder'] == 0, 0,training_data['funder'])\n",
    "training_data['funder'] = np.where(training_data['funder'] == '0', 0,training_data['funder'])\n",
    "training_data['funder'] = np.where(training_data['funder'] == 0, np.nan, training_data['funder'])# fill null with zero\n",
    "training_data['funder'] = training_data['funder'].fillna(training_data['funder'].mode()[0])\n"
   ]
  },
  {
   "cell_type": "code",
   "execution_count": 18,
   "id": "55bb9b88",
   "metadata": {},
   "outputs": [
    {
     "data": {
      "text/plain": [
       "Government Of Tanzania            13496\n",
       "Danida                             3114\n",
       "Hesawa                             2202\n",
       "Rwssp                              1374\n",
       "World Bank                         1349\n",
       "Kkkt                               1287\n",
       "World Vision                       1246\n",
       "Unicef                             1057\n",
       "Tasaf                               877\n",
       "District Council                    843\n",
       "Dhv                                 829\n",
       "Private Individual                  826\n",
       "Dwsp                                811\n",
       "Norad                               765\n",
       "Germany Republi                     610\n",
       "Tcrs                                602\n",
       "Ministry Of Water                   590\n",
       "Water                               583\n",
       "Dwe                                 484\n",
       "Netherlands                         470\n",
       "Hifab                               450\n",
       "Adb                                 448\n",
       "Lga                                 442\n",
       "Amref                               425\n",
       "Fini Water                          393\n",
       "Oxfam                               359\n",
       "Wateraid                            333\n",
       "Rc Church                           321\n",
       "Isf                                 316\n",
       "Rudep                               312\n",
       "Mission                             301\n",
       "Private                             295\n",
       "Jaica                               280\n",
       "Roman                               275\n",
       "Rural Water Supply And Sanitat      270\n",
       "Adra                                263\n",
       "Ces(gmbh)                           260\n",
       "Jica                                259\n",
       "Shipo                               241\n",
       "Wsdp                                234\n",
       "Rc                                  230\n",
       "Finw                                219\n",
       "Dh                                  213\n",
       "Ded                                 198\n",
       "Plan Int                            195\n",
       "Kiliwater                           189\n",
       "Dmdd                                186\n",
       "Go                                  181\n",
       "Lawatefuka Water Supply             180\n",
       "Oxfarm                              176\n",
       "Name: funder, dtype: int64"
      ]
     },
     "execution_count": 18,
     "metadata": {},
     "output_type": "execute_result"
    }
   ],
   "source": [
    "training_data.funder.value_counts().head(50)"
   ]
  },
  {
   "cell_type": "code",
   "execution_count": null,
   "id": "23b239c9",
   "metadata": {},
   "outputs": [],
   "source": [
    "\n"
   ]
  },
  {
   "cell_type": "markdown",
   "id": "3ee403ff",
   "metadata": {},
   "source": [
    "#### Installer"
   ]
  },
  {
   "cell_type": "code",
   "execution_count": 19,
   "id": "764a1e31",
   "metadata": {},
   "outputs": [
    {
     "data": {
      "text/plain": [
       "DWE           17402\n",
       "Government     1825\n",
       "RWE            1206\n",
       "Commu          1060\n",
       "DANIDA         1050\n",
       "Name: installer, dtype: int64"
      ]
     },
     "execution_count": 19,
     "metadata": {},
     "output_type": "execute_result"
    }
   ],
   "source": [
    "training_data.installer.value_counts().head()"
   ]
  },
  {
   "cell_type": "code",
   "execution_count": 20,
   "id": "dfca1f56",
   "metadata": {},
   "outputs": [],
   "source": [
    "training_data['installer'] = training_data['installer'].fillna(0)\n",
    "training_data['installer'] = np.where(training_data['installer'] == 0, 0,training_data['installer'])\n",
    "training_data['installer'] = np.where(training_data['installer'] == '0', 0,training_data['installer'])\n",
    "training_data['installer'] = np.where(training_data['installer'] == 0, np.nan, training_data['installer'])\n",
    "training_data['installer'] = training_data['installer'].fillna(training_data['installer'].mode()[0])\n"
   ]
  },
  {
   "cell_type": "markdown",
   "id": "0602175b",
   "metadata": {},
   "source": [
    "> In addition to the 3635 NaNs, there are 777 that have the entry “0”.\n",
    "I’m assuming these are missing values too, so altogether we have 4412 missing values.\n"
   ]
  },
  {
   "cell_type": "markdown",
   "id": "09643808",
   "metadata": {},
   "source": [
    "### subvillage "
   ]
  },
  {
   "cell_type": "code",
   "execution_count": 21,
   "id": "a7987c62",
   "metadata": {
    "scrolled": true
   },
   "outputs": [
    {
     "data": {
      "text/plain": [
       "Madukani        508\n",
       "Shuleni         506\n",
       "Majengo         502\n",
       "Kati            373\n",
       "Mtakuja         262\n",
       "               ... \n",
       "Kipompo           1\n",
       "Chanyamilima      1\n",
       "Ikalime           1\n",
       "Kemagaka          1\n",
       "Kikatanyemba      1\n",
       "Name: subvillage, Length: 19287, dtype: int64"
      ]
     },
     "execution_count": 21,
     "metadata": {},
     "output_type": "execute_result"
    }
   ],
   "source": [
    "training_data.subvillage.value_counts() "
   ]
  },
  {
   "cell_type": "markdown",
   "id": "b02b3c45",
   "metadata": {},
   "source": [
    ">I'm going to use mode for the missing values"
   ]
  },
  {
   "cell_type": "code",
   "execution_count": 22,
   "id": "1bfa3f7e",
   "metadata": {},
   "outputs": [],
   "source": [
    "training_data['subvillage'] = training_data['subvillage'].fillna(training_data['subvillage'].mode()[0])"
   ]
  },
  {
   "cell_type": "markdown",
   "id": "b507c5fb",
   "metadata": {},
   "source": [
    "#### scheme_management"
   ]
  },
  {
   "cell_type": "code",
   "execution_count": 23,
   "id": "740ad902",
   "metadata": {},
   "outputs": [
    {
     "data": {
      "text/plain": [
       "VWC                 36793\n",
       "WUG                  5206\n",
       "Water authority      3153\n",
       "WUA                  2883\n",
       "Water Board          2748\n",
       "Parastatal           1680\n",
       "Private operator     1063\n",
       "Company              1061\n",
       "Other                 766\n",
       "SWC                    97\n",
       "Trust                  72\n",
       "None                    1\n",
       "Name: scheme_management, dtype: int64"
      ]
     },
     "execution_count": 23,
     "metadata": {},
     "output_type": "execute_result"
    }
   ],
   "source": [
    "training_data.scheme_management.value_counts() "
   ]
  },
  {
   "cell_type": "code",
   "execution_count": 24,
   "id": "d5ad9096",
   "metadata": {},
   "outputs": [
    {
     "data": {
      "text/plain": [
       "False    55523\n",
       "True      3877\n",
       "Name: scheme_management, dtype: int64"
      ]
     },
     "execution_count": 24,
     "metadata": {},
     "output_type": "execute_result"
    }
   ],
   "source": [
    "training_data.scheme_management.isna().value_counts()"
   ]
  },
  {
   "cell_type": "code",
   "execution_count": 25,
   "id": "d3b58d38",
   "metadata": {},
   "outputs": [],
   "source": [
    "\n",
    "training_data['scheme_management'] = training_data['scheme_management'].fillna(training_data['scheme_management'].mode()[0])"
   ]
  },
  {
   "cell_type": "markdown",
   "id": "b01cfe4b",
   "metadata": {},
   "source": [
    "#### public_meeting "
   ]
  },
  {
   "cell_type": "code",
   "execution_count": 26,
   "id": "f7bd2fca",
   "metadata": {},
   "outputs": [
    {
     "data": {
      "text/plain": [
       "True     51011\n",
       "False     5055\n",
       "Name: public_meeting, dtype: int64"
      ]
     },
     "execution_count": 26,
     "metadata": {},
     "output_type": "execute_result"
    }
   ],
   "source": [
    "training_data.public_meeting.value_counts() "
   ]
  },
  {
   "cell_type": "code",
   "execution_count": 27,
   "id": "8d181440",
   "metadata": {},
   "outputs": [],
   "source": [
    "\n",
    "training_data['public_meeting'] = training_data['public_meeting'].fillna(training_data['public_meeting'].mode()[0])"
   ]
  },
  {
   "cell_type": "code",
   "execution_count": null,
   "id": "6f79dfe8",
   "metadata": {},
   "outputs": [],
   "source": []
  },
  {
   "cell_type": "markdown",
   "id": "6152fc59",
   "metadata": {},
   "source": [
    "#### scheme_name       "
   ]
  },
  {
   "cell_type": "code",
   "execution_count": 28,
   "id": "6c98280e",
   "metadata": {},
   "outputs": [],
   "source": [
    "#let's drop the columns with 28k nans \n",
    "training_data= training_data.drop(columns='scheme_name')"
   ]
  },
  {
   "cell_type": "markdown",
   "id": "9192e332",
   "metadata": {},
   "source": [
    ">Drop the column since it has mor than 50% of missing data"
   ]
  },
  {
   "cell_type": "markdown",
   "id": "8219418b",
   "metadata": {},
   "source": [
    "#### permit"
   ]
  },
  {
   "cell_type": "code",
   "execution_count": 29,
   "id": "653001ac",
   "metadata": {},
   "outputs": [],
   "source": [
    "training_data['permit'] = training_data['permit'].fillna(training_data['permit'].mode()[0])\n"
   ]
  },
  {
   "cell_type": "code",
   "execution_count": 30,
   "id": "c89fb539",
   "metadata": {},
   "outputs": [
    {
     "data": {
      "text/plain": [
       "amount_tsh           0\n",
       "date_recorded        0\n",
       "funder               0\n",
       "gps_height           0\n",
       "installer            0\n",
       "longitude            0\n",
       "latitude             0\n",
       "basin                0\n",
       "subvillage           0\n",
       "region_code          0\n",
       "district_code        0\n",
       "population           0\n",
       "public_meeting       0\n",
       "scheme_management    0\n",
       "permit               0\n",
       "construction_year    0\n",
       "extraction_type      0\n",
       "management_group     0\n",
       "payment_type         0\n",
       "water_quality        0\n",
       "quantity_group       0\n",
       "source_type          0\n",
       "source_class         0\n",
       "waterpoint_type      0\n",
       "status_group         0\n",
       "dtype: int64"
      ]
     },
     "execution_count": 30,
     "metadata": {},
     "output_type": "execute_result"
    }
   ],
   "source": [
    "training_data.isna().sum()"
   ]
  },
  {
   "cell_type": "code",
   "execution_count": 31,
   "id": "374ffd34",
   "metadata": {},
   "outputs": [
    {
     "name": "stdout",
     "output_type": "stream",
     "text": [
      "<class 'pandas.core.frame.DataFrame'>\n",
      "Int64Index: 59400 entries, 0 to 59399\n",
      "Data columns (total 25 columns):\n",
      " #   Column             Non-Null Count  Dtype  \n",
      "---  ------             --------------  -----  \n",
      " 0   amount_tsh         59400 non-null  float64\n",
      " 1   date_recorded      59400 non-null  object \n",
      " 2   funder             59400 non-null  object \n",
      " 3   gps_height         59400 non-null  int64  \n",
      " 4   installer          59400 non-null  object \n",
      " 5   longitude          59400 non-null  float64\n",
      " 6   latitude           59400 non-null  float64\n",
      " 7   basin              59400 non-null  object \n",
      " 8   subvillage         59400 non-null  object \n",
      " 9   region_code        59400 non-null  int64  \n",
      " 10  district_code      59400 non-null  int64  \n",
      " 11  population         59400 non-null  int64  \n",
      " 12  public_meeting     59400 non-null  bool   \n",
      " 13  scheme_management  59400 non-null  object \n",
      " 14  permit             59400 non-null  bool   \n",
      " 15  construction_year  59400 non-null  int64  \n",
      " 16  extraction_type    59400 non-null  object \n",
      " 17  management_group   59400 non-null  object \n",
      " 18  payment_type       59400 non-null  object \n",
      " 19  water_quality      59400 non-null  object \n",
      " 20  quantity_group     59400 non-null  object \n",
      " 21  source_type        59400 non-null  object \n",
      " 22  source_class       59400 non-null  object \n",
      " 23  waterpoint_type    59400 non-null  object \n",
      " 24  status_group       59400 non-null  object \n",
      "dtypes: bool(2), float64(3), int64(5), object(15)\n",
      "memory usage: 11.0+ MB\n"
     ]
    }
   ],
   "source": [
    "#checking the data types\n",
    "training_data.info()"
   ]
  },
  {
   "cell_type": "code",
   "execution_count": 32,
   "id": "055e7487",
   "metadata": {},
   "outputs": [],
   "source": [
    "# removing duplicates\n",
    "training_data.drop_duplicates(inplace=True)"
   ]
  },
  {
   "cell_type": "code",
   "execution_count": 33,
   "id": "8461d524",
   "metadata": {},
   "outputs": [],
   "source": [
    "## changing the construction year to numeric value\n",
    "training_data.construction_year = pd.to_numeric(training_data.construction_year)"
   ]
  },
  {
   "cell_type": "code",
   "execution_count": 34,
   "id": "4f9adfc5",
   "metadata": {},
   "outputs": [
    {
     "name": "stderr",
     "output_type": "stream",
     "text": [
      "C:\\Users\\ADMIN\\AppData\\Local\\Temp\\ipykernel_5336\\3750398453.py:4: FutureWarning: Treating datetime data as categorical rather than numeric in `.describe` is deprecated and will be removed in a future version of pandas. Specify `datetime_is_numeric=True` to silence this warning and adopt the future behavior now.\n",
      "  training_data.date_recorded.describe()\n"
     ]
    },
    {
     "data": {
      "text/plain": [
       "count                   59257\n",
       "unique                    356\n",
       "top       2011-03-15 00:00:00\n",
       "freq                      572\n",
       "first     2002-10-14 00:00:00\n",
       "last      2013-12-03 00:00:00\n",
       "Name: date_recorded, dtype: object"
      ]
     },
     "execution_count": 34,
     "metadata": {},
     "output_type": "execute_result"
    }
   ],
   "source": [
    "## Converting the Month column into date time object.\n",
    "training_data['month']=pd.to_datetime(training_data.date_recorded).dt.month\n",
    "training_data.date_recorded = pd.to_datetime(training_data.date_recorded)\n",
    "training_data.date_recorded.describe()"
   ]
  },
  {
   "cell_type": "markdown",
   "id": "69e6bf41",
   "metadata": {},
   "source": [
    ">let us try to add a new column named data_since_recorded (which is obtained from subratcting date_recorded from latest recorded date) so that we get a new column which contains no. of days since recorded. The most recent data is 2013-12-03. Subtract each date from this point to obtain a 'days_since_recorded' column."
   ]
  },
  {
   "cell_type": "code",
   "execution_count": 35,
   "id": "5fb8662a",
   "metadata": {},
   "outputs": [
    {
     "name": "stderr",
     "output_type": "stream",
     "text": [
      "C:\\Users\\ADMIN\\AppData\\Local\\Temp\\ipykernel_5336\\2868931886.py:1: FutureWarning: The pandas.datetime class is deprecated and will be removed from pandas in a future version. Import from datetime module instead.\n",
      "  training_data.date_recorded = pd.datetime(2013, 12, 3) - pd.to_datetime(training_data.date_recorded)\n"
     ]
    },
    {
     "data": {
      "text/plain": [
       "count    59257.000000\n",
       "mean       613.733264\n",
       "std        334.383775\n",
       "min          0.000000\n",
       "25%        297.000000\n",
       "50%        419.000000\n",
       "75%        977.000000\n",
       "max       4068.000000\n",
       "Name: days_since_recorded, dtype: float64"
      ]
     },
     "execution_count": 35,
     "metadata": {},
     "output_type": "execute_result"
    }
   ],
   "source": [
    "training_data.date_recorded = pd.datetime(2013, 12, 3) - pd.to_datetime(training_data.date_recorded)\n",
    "training_data.columns = ['days_since_recorded' if x=='date_recorded' else x for x in training_data.columns]\n",
    "training_data.days_since_recorded = training_data.days_since_recorded.astype('timedelta64[D]').astype(int)\n",
    "training_data.days_since_recorded.describe()"
   ]
  },
  {
   "cell_type": "code",
   "execution_count": 36,
   "id": "133ecb99",
   "metadata": {},
   "outputs": [],
   "source": [
    "# We can drop the location data, at this time I am not going to use location, maybe in future in I will also use this.\n",
    "training_data = training_data.drop(['longitude', 'latitude', 'region_code', 'district_code','month'], axis=1)"
   ]
  },
  {
   "cell_type": "code",
   "execution_count": 37,
   "id": "ca1ab539",
   "metadata": {},
   "outputs": [
    {
     "data": {
      "text/plain": [
       "Index(['amount_tsh', 'days_since_recorded', 'funder', 'gps_height',\n",
       "       'installer', 'basin', 'subvillage', 'population', 'public_meeting',\n",
       "       'scheme_management', 'permit', 'construction_year', 'extraction_type',\n",
       "       'management_group', 'payment_type', 'water_quality', 'quantity_group',\n",
       "       'source_type', 'source_class', 'waterpoint_type', 'status_group'],\n",
       "      dtype='object')"
      ]
     },
     "execution_count": 37,
     "metadata": {},
     "output_type": "execute_result"
    }
   ],
   "source": [
    "training_data.columns"
   ]
  },
  {
   "cell_type": "markdown",
   "id": "fe49b88f",
   "metadata": {},
   "source": [
    "### TEST DATA"
   ]
  },
  {
   "cell_type": "markdown",
   "id": "65bdecad",
   "metadata": {},
   "source": [
    "### As we did in the training data so we shall do the test data"
   ]
  },
  {
   "cell_type": "code",
   "execution_count": 38,
   "id": "656695db",
   "metadata": {},
   "outputs": [],
   "source": [
    "test = test.drop(['longitude', 'latitude', 'region_code', 'district_code',\n",
    "                  'num_private', 'id', 'payment', 'management', \n",
    "                  'extraction_type_class', 'extraction_type_group', 'recorded_by','region', 'lga',\n",
    "                  'ward', 'wpt_name', 'quantity',\n",
    "                 'quality_group', 'source'], axis=1)"
   ]
  },
  {
   "cell_type": "code",
   "execution_count": 39,
   "id": "ca6b8d8e",
   "metadata": {},
   "outputs": [],
   "source": [
    "test['funder'] = test['funder'].fillna(0)\n",
    "test['funder'] = np.where(test['funder'] == 0, 0,test['funder'])\n",
    "test['funder'] = np.where(test['funder'] == '0', 0,test['funder'])\n",
    "test['funder'] = np.where(test['funder'] == 0, np.nan,test['funder'])\n",
    "test['funder'] = test['funder'].fillna(test['funder'].mode()[0])\n"
   ]
  },
  {
   "cell_type": "code",
   "execution_count": 40,
   "id": "a078c49a",
   "metadata": {},
   "outputs": [],
   "source": [
    "test['installer'] = test['installer'].fillna(0)\n",
    "test['installer'] = np.where(test['installer'] == 0, 0,test['installer'])\n",
    "test['installer'] = np.where(test['installer'] == '0', 0,test['installer'])\n",
    "test['installer'] = np.where(test['installer'] == 0, np.nan, test['installer'])\n",
    "test['installer'] = test['installer'].fillna(test['installer'].mode()[0])\n"
   ]
  },
  {
   "cell_type": "code",
   "execution_count": 41,
   "id": "dd145480",
   "metadata": {},
   "outputs": [],
   "source": [
    "test['subvillage'] = test['subvillage'].fillna(test['subvillage'].mode()[0])"
   ]
  },
  {
   "cell_type": "code",
   "execution_count": 42,
   "id": "8144b6ea",
   "metadata": {},
   "outputs": [],
   "source": [
    "\n",
    "test['scheme_management'] = test['scheme_management'].fillna(test['scheme_management'].mode()[0])"
   ]
  },
  {
   "cell_type": "code",
   "execution_count": 43,
   "id": "217bf483",
   "metadata": {},
   "outputs": [],
   "source": [
    "\n",
    "test['public_meeting'] = test['public_meeting'].fillna(test['public_meeting'].mode()[0])"
   ]
  },
  {
   "cell_type": "code",
   "execution_count": 44,
   "id": "a67f56a0",
   "metadata": {},
   "outputs": [],
   "source": [
    "test= test.drop(columns='scheme_name')"
   ]
  },
  {
   "cell_type": "code",
   "execution_count": 45,
   "id": "0f816baf",
   "metadata": {},
   "outputs": [],
   "source": [
    "# removing duplicates\n",
    "test.drop_duplicates(inplace=True)"
   ]
  },
  {
   "cell_type": "code",
   "execution_count": 46,
   "id": "99747072",
   "metadata": {},
   "outputs": [],
   "source": [
    "## changing the construction year to numeric value\n",
    "test.construction_year = pd.to_numeric(test.construction_year)"
   ]
  },
  {
   "cell_type": "code",
   "execution_count": 47,
   "id": "5752abc6",
   "metadata": {},
   "outputs": [
    {
     "name": "stderr",
     "output_type": "stream",
     "text": [
      "C:\\Users\\ADMIN\\AppData\\Local\\Temp\\ipykernel_5336\\505023181.py:4: FutureWarning: Treating datetime data as categorical rather than numeric in `.describe` is deprecated and will be removed in a future version of pandas. Specify `datetime_is_numeric=True` to silence this warning and adopt the future behavior now.\n",
      "  test.date_recorded.describe()\n"
     ]
    },
    {
     "data": {
      "text/plain": [
       "count                   14381\n",
       "unique                    331\n",
       "top       2013-02-03 00:00:00\n",
       "freq                      138\n",
       "first     2001-03-26 00:00:00\n",
       "last      2013-12-03 00:00:00\n",
       "Name: date_recorded, dtype: object"
      ]
     },
     "execution_count": 47,
     "metadata": {},
     "output_type": "execute_result"
    }
   ],
   "source": [
    "## Converting the Month column into date time object.\n",
    "test['month']=pd.to_datetime(test.date_recorded).dt.month\n",
    "test.date_recorded = pd.to_datetime(test.date_recorded)\n",
    "test.date_recorded.describe()"
   ]
  },
  {
   "cell_type": "code",
   "execution_count": 48,
   "id": "f402382d",
   "metadata": {},
   "outputs": [
    {
     "name": "stderr",
     "output_type": "stream",
     "text": [
      "C:\\Users\\ADMIN\\AppData\\Local\\Temp\\ipykernel_5336\\505023181.py:4: FutureWarning: Treating datetime data as categorical rather than numeric in `.describe` is deprecated and will be removed in a future version of pandas. Specify `datetime_is_numeric=True` to silence this warning and adopt the future behavior now.\n",
      "  test.date_recorded.describe()\n"
     ]
    },
    {
     "data": {
      "text/plain": [
       "count                   14381\n",
       "unique                    331\n",
       "top       2013-02-03 00:00:00\n",
       "freq                      138\n",
       "first     2001-03-26 00:00:00\n",
       "last      2013-12-03 00:00:00\n",
       "Name: date_recorded, dtype: object"
      ]
     },
     "execution_count": 48,
     "metadata": {},
     "output_type": "execute_result"
    }
   ],
   "source": [
    "## Converting the Month column into date time object.\n",
    "test['month']=pd.to_datetime(test.date_recorded).dt.month\n",
    "test.date_recorded = pd.to_datetime(test.date_recorded)\n",
    "test.date_recorded.describe()"
   ]
  },
  {
   "cell_type": "code",
   "execution_count": 49,
   "id": "a8ba1ec5",
   "metadata": {},
   "outputs": [
    {
     "name": "stderr",
     "output_type": "stream",
     "text": [
      "C:\\Users\\ADMIN\\AppData\\Local\\Temp\\ipykernel_5336\\4201790042.py:1: FutureWarning: The pandas.datetime class is deprecated and will be removed from pandas in a future version. Import from datetime module instead.\n",
      "  test.date_recorded = pd.datetime(2013, 12, 3) - pd.to_datetime(test.date_recorded)\n"
     ]
    },
    {
     "data": {
      "text/plain": [
       "count    14381.000000\n",
       "mean       611.714276\n",
       "std        339.721112\n",
       "min          0.000000\n",
       "25%        297.000000\n",
       "50%        417.000000\n",
       "75%        979.000000\n",
       "max       4635.000000\n",
       "Name: days_since_recorded, dtype: float64"
      ]
     },
     "execution_count": 49,
     "metadata": {},
     "output_type": "execute_result"
    }
   ],
   "source": [
    "test.date_recorded = pd.datetime(2013, 12, 3) - pd.to_datetime(test.date_recorded)\n",
    "test.columns = ['days_since_recorded' if x=='date_recorded' else x for x in test.columns]\n",
    "test.days_since_recorded = test.days_since_recorded.astype('timedelta64[D]').astype(int)\n",
    "test.days_since_recorded.describe()"
   ]
  },
  {
   "cell_type": "code",
   "execution_count": null,
   "id": "848cb3ca",
   "metadata": {},
   "outputs": [],
   "source": []
  },
  {
   "cell_type": "code",
   "execution_count": 53,
   "id": "2d909d80",
   "metadata": {},
   "outputs": [
    {
     "data": {
      "text/plain": [
       "(59257, 21)"
      ]
     },
     "execution_count": 53,
     "metadata": {},
     "output_type": "execute_result"
    }
   ],
   "source": [
    "training_data.shape"
   ]
  },
  {
   "cell_type": "code",
   "execution_count": 54,
   "id": "c01c71fa",
   "metadata": {
    "scrolled": true
   },
   "outputs": [
    {
     "data": {
      "text/plain": [
       "(14381, 22)"
      ]
     },
     "execution_count": 54,
     "metadata": {},
     "output_type": "execute_result"
    }
   ],
   "source": [
    "test.shape"
   ]
  },
  {
   "cell_type": "markdown",
   "id": "a8f1efff",
   "metadata": {},
   "source": [
    "> Saving our data to a new file"
   ]
  },
  {
   "cell_type": "code",
   "execution_count": 55,
   "id": "9286d88f",
   "metadata": {},
   "outputs": [],
   "source": [
    "training_data.to_csv('training_data.csv', index=True)\n"
   ]
  },
  {
   "cell_type": "code",
   "execution_count": 56,
   "id": "b45e2c7a",
   "metadata": {},
   "outputs": [],
   "source": [
    " \n",
    "test.to_csv('test_data.csv', index=True)\n"
   ]
  },
  {
   "cell_type": "code",
   "execution_count": null,
   "id": "caca5733",
   "metadata": {},
   "outputs": [],
   "source": [
    "test.columns\n"
   ]
  },
  {
   "cell_type": "code",
   "execution_count": null,
   "id": "b5cda712",
   "metadata": {},
   "outputs": [],
   "source": []
  },
  {
   "cell_type": "code",
   "execution_count": null,
   "id": "9ca00fd4",
   "metadata": {},
   "outputs": [],
   "source": []
  },
  {
   "cell_type": "code",
   "execution_count": null,
   "id": "064e8bef",
   "metadata": {},
   "outputs": [],
   "source": []
  },
  {
   "cell_type": "code",
   "execution_count": null,
   "id": "281ba1ee",
   "metadata": {},
   "outputs": [],
   "source": []
  }
 ],
 "metadata": {
  "kernelspec": {
   "display_name": "Python 3 (ipykernel)",
   "language": "python",
   "name": "python3"
  },
  "language_info": {
   "codemirror_mode": {
    "name": "ipython",
    "version": 3
   },
   "file_extension": ".py",
   "mimetype": "text/x-python",
   "name": "python",
   "nbconvert_exporter": "python",
   "pygments_lexer": "ipython3",
   "version": "3.9.12"
  }
 },
 "nbformat": 4,
 "nbformat_minor": 5
}
